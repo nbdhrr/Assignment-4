{
 "cells": [
  {
   "cell_type": "code",
   "execution_count": null,
   "metadata": {},
   "outputs": [],
   "source": [
    "#TASK 1 Write a function to find moving average in an array over a window:\n",
    "#Test it over [3, 5, 7, 2, 8, 10, 11, 65, 72, 81, 99, 100, 150] and window of 3."
   ]
  },
  {
   "cell_type": "code",
   "execution_count": 6,
   "metadata": {},
   "outputs": [],
   "source": [
    "\n",
    "def moving_avg(x,k):\n",
    "    n=len(x)\n",
    "    l=[]\n",
    "    for i in range(0,n-k+1,1):\n",
    "        sum=0\n",
    "        for j in range(0,k):\n",
    "            sum=sum+x[i+j]\n",
    "        l.append(sum/3)\n",
    "    return l  \n",
    "    "
   ]
  },
  {
   "cell_type": "code",
   "execution_count": 8,
   "metadata": {
    "scrolled": true
   },
   "outputs": [
    {
     "name": "stdout",
     "output_type": "stream",
     "text": [
      "[5.0, 4.666666666666667, 5.666666666666667, 6.666666666666667, 9.666666666666666, 28.666666666666668, 49.333333333333336, 72.66666666666667, 84.0, 93.33333333333333, 116.33333333333333]\n"
     ]
    }
   ],
   "source": [
    "k=3\n",
    "l=[3,5,7,2,8,10,11,65,72,81,99,100,150]\n",
    "result=moving_avg(l,k)\n",
    "print(result)"
   ]
  },
  {
   "cell_type": "code",
   "execution_count": null,
   "metadata": {},
   "outputs": [],
   "source": [
    "#TASK 2.1 How-to-count-distance-to-the-previous-zero\n",
    "#For each value, count the difference back to the previous zero (or the start of the Series,\n",
    "#whichever is closer)\n",
    "#create a new column 'Y'\n",
    "#Consider a DataFrame df where there is an integer column 'X'\n",
    "#import pandas as pd\n",
    "#df = pd.DataFrame({'X': [7, 2, 0, 3, 4, 2, 5, 0, 3, 4]})"
   ]
  },
  {
   "cell_type": "code",
   "execution_count": 10,
   "metadata": {},
   "outputs": [
    {
     "data": {
      "text/html": [
       "<div>\n",
       "<style scoped>\n",
       "    .dataframe tbody tr th:only-of-type {\n",
       "        vertical-align: middle;\n",
       "    }\n",
       "\n",
       "    .dataframe tbody tr th {\n",
       "        vertical-align: top;\n",
       "    }\n",
       "\n",
       "    .dataframe thead th {\n",
       "        text-align: right;\n",
       "    }\n",
       "</style>\n",
       "<table border=\"1\" class=\"dataframe\">\n",
       "  <thead>\n",
       "    <tr style=\"text-align: right;\">\n",
       "      <th></th>\n",
       "      <th>x</th>\n",
       "      <th>y</th>\n",
       "    </tr>\n",
       "  </thead>\n",
       "  <tbody>\n",
       "    <tr>\n",
       "      <th>0</th>\n",
       "      <td>7</td>\n",
       "      <td>NaN</td>\n",
       "    </tr>\n",
       "    <tr>\n",
       "      <th>1</th>\n",
       "      <td>2</td>\n",
       "      <td>NaN</td>\n",
       "    </tr>\n",
       "    <tr>\n",
       "      <th>2</th>\n",
       "      <td>0</td>\n",
       "      <td>NaN</td>\n",
       "    </tr>\n",
       "    <tr>\n",
       "      <th>3</th>\n",
       "      <td>3</td>\n",
       "      <td>1.0</td>\n",
       "    </tr>\n",
       "    <tr>\n",
       "      <th>4</th>\n",
       "      <td>4</td>\n",
       "      <td>2.0</td>\n",
       "    </tr>\n",
       "    <tr>\n",
       "      <th>5</th>\n",
       "      <td>25</td>\n",
       "      <td>3.0</td>\n",
       "    </tr>\n",
       "    <tr>\n",
       "      <th>6</th>\n",
       "      <td>0</td>\n",
       "      <td>NaN</td>\n",
       "    </tr>\n",
       "    <tr>\n",
       "      <th>7</th>\n",
       "      <td>3</td>\n",
       "      <td>1.0</td>\n",
       "    </tr>\n",
       "    <tr>\n",
       "      <th>8</th>\n",
       "      <td>4</td>\n",
       "      <td>2.0</td>\n",
       "    </tr>\n",
       "  </tbody>\n",
       "</table>\n",
       "</div>"
      ],
      "text/plain": [
       "    x    y\n",
       "0   7  NaN\n",
       "1   2  NaN\n",
       "2   0  NaN\n",
       "3   3  1.0\n",
       "4   4  2.0\n",
       "5  25  3.0\n",
       "6   0  NaN\n",
       "7   3  1.0\n",
       "8   4  2.0"
      ]
     },
     "execution_count": 10,
     "metadata": {},
     "output_type": "execute_result"
    }
   ],
   "source": [
    "import numpy as np\n",
    "import pandas as pd\n",
    "df=pd.DataFrame({'x':[7,2,0,3,4,25,0,3,4]})\n",
    "\n",
    "def count_dist_zero(y):\n",
    "    l=df[df['x']==y].index.values.astype(int)[0]\n",
    "    j=l-1\n",
    "    while(j>=0):\n",
    "        if df.iloc[j].x!=0:\n",
    "            j=j-1\n",
    "        elif df.iloc[j].x==0:\n",
    "            return l-j   \n",
    "    \n",
    "df['y']=df['x'].apply(count_dist_zero)\n",
    "df\n"
   ]
  },
  {
   "cell_type": "code",
   "execution_count": null,
   "metadata": {},
   "outputs": [],
   "source": [
    "#TASK 2.2\n",
    "#Create a DatetimeIndex that contains each business day of 2015 and use it to index a Series of\n",
    "#random numbers."
   ]
  },
  {
   "cell_type": "code",
   "execution_count": 20,
   "metadata": {},
   "outputs": [
    {
     "data": {
      "text/plain": [
       "2015-01-01    1143\n",
       "2015-01-02    1055\n",
       "2015-01-05    1242\n",
       "2015-01-06     691\n",
       "2015-01-07    1470\n",
       "2015-01-08     873\n",
       "2015-01-09     710\n",
       "2015-01-12     922\n",
       "2015-01-13     780\n",
       "2015-01-14    1451\n",
       "2015-01-15    1353\n",
       "2015-01-16    1133\n",
       "2015-01-19    1236\n",
       "2015-01-20     632\n",
       "2015-01-21     591\n",
       "2015-01-22    1344\n",
       "2015-01-23     885\n",
       "2015-01-26    1152\n",
       "2015-01-27     581\n",
       "2015-01-28    1243\n",
       "2015-01-29     725\n",
       "2015-01-30     838\n",
       "2015-02-02    1189\n",
       "2015-02-03    1391\n",
       "2015-02-04     708\n",
       "2015-02-05     684\n",
       "2015-02-06    1045\n",
       "2015-02-09    1190\n",
       "2015-02-10     738\n",
       "2015-02-11     917\n",
       "              ... \n",
       "2015-11-20    1166\n",
       "2015-11-23     726\n",
       "2015-11-24     599\n",
       "2015-11-25     912\n",
       "2015-11-26    1026\n",
       "2015-11-27    1353\n",
       "2015-11-30     656\n",
       "2015-12-01    1265\n",
       "2015-12-02     891\n",
       "2015-12-03     629\n",
       "2015-12-04    1156\n",
       "2015-12-07    1173\n",
       "2015-12-08    1461\n",
       "2015-12-09     663\n",
       "2015-12-10    1385\n",
       "2015-12-11     882\n",
       "2015-12-14    1206\n",
       "2015-12-15     624\n",
       "2015-12-16    1177\n",
       "2015-12-17    1297\n",
       "2015-12-18    1299\n",
       "2015-12-21     858\n",
       "2015-12-22    1273\n",
       "2015-12-23    1384\n",
       "2015-12-24    1309\n",
       "2015-12-25    1368\n",
       "2015-12-28     833\n",
       "2015-12-29    1478\n",
       "2015-12-30    1236\n",
       "2015-12-31     710\n",
       "Freq: B, Length: 261, dtype: int32"
      ]
     },
     "execution_count": 20,
     "metadata": {},
     "output_type": "execute_result"
    }
   ],
   "source": [
    "import pandas as pd\n",
    "import numpy.random as np\n",
    "index = pd.date_range('2015-01-01', '2015-12-31',freq='B')\n",
    "data=np.randint(500,1500,len(index))\n",
    "s = pd.Series(data, index=index)\n",
    "s"
   ]
  },
  {
   "cell_type": "code",
   "execution_count": null,
   "metadata": {},
   "outputs": [],
   "source": [
    "#TASK 2.3\n",
    "#Find the sum of the values in s for every Wednesday"
   ]
  },
  {
   "cell_type": "code",
   "execution_count": 18,
   "metadata": {},
   "outputs": [
    {
     "data": {
      "text/plain": [
       "50868"
      ]
     },
     "execution_count": 18,
     "metadata": {},
     "output_type": "execute_result"
    }
   ],
   "source": [
    "s.groupby(s.index.weekday_name).sum().Wednesday"
   ]
  },
  {
   "cell_type": "code",
   "execution_count": null,
   "metadata": {},
   "outputs": [],
   "source": [
    "#TASK2.4\n",
    "#Average For each calendar month"
   ]
  },
  {
   "cell_type": "code",
   "execution_count": 19,
   "metadata": {},
   "outputs": [
    {
     "data": {
      "text/plain": [
       "1     1033.636364\n",
       "2     1033.000000\n",
       "3     1044.136364\n",
       "4      980.772727\n",
       "5     1016.047619\n",
       "6     1061.363636\n",
       "7      999.782609\n",
       "8     1026.333333\n",
       "9     1034.863636\n",
       "10    1031.681818\n",
       "11    1052.952381\n",
       "12     971.391304\n",
       "dtype: float64"
      ]
     },
     "execution_count": 19,
     "metadata": {},
     "output_type": "execute_result"
    }
   ],
   "source": [
    "s.groupby(s.index.month).mean()"
   ]
  },
  {
   "cell_type": "code",
   "execution_count": null,
   "metadata": {},
   "outputs": [],
   "source": [
    "#TASK2.5\n",
    "#For each group of four consecutive calendar months in s, find the date on which the highest\n",
    "#value occurred."
   ]
  },
  {
   "cell_type": "code",
   "execution_count": 25,
   "metadata": {},
   "outputs": [
    {
     "name": "stdout",
     "output_type": "stream",
     "text": [
      "DatetimeIndex(['2015-01-31', '2015-05-31', '2015-09-30', '2016-01-31'], dtype='datetime64[ns]', freq=None)\n"
     ]
    },
    {
     "name": "stderr",
     "output_type": "stream",
     "text": [
      "C:\\Users\\navee\\Anaconda3\\lib\\site-packages\\ipykernel_launcher.py:1: FutureWarning: pd.TimeGrouper is deprecated and will be removed; Please use pd.Grouper(freq=...)\n",
      "  \"\"\"Entry point for launching an IPython kernel.\n"
     ]
    }
   ],
   "source": [
    "high_4 = s.groupby(pd.TimeGrouper('4M')).max()\n",
    "high_4 = pd.Series(high_4[0:4]).index\n",
    "print(high_4)"
   ]
  },
  {
   "cell_type": "code",
   "execution_count": null,
   "metadata": {},
   "outputs": [],
   "source": []
  }
 ],
 "metadata": {
  "kernelspec": {
   "display_name": "Python 3",
   "language": "python",
   "name": "python3"
  },
  "language_info": {
   "codemirror_mode": {
    "name": "ipython",
    "version": 3
   },
   "file_extension": ".py",
   "mimetype": "text/x-python",
   "name": "python",
   "nbconvert_exporter": "python",
   "pygments_lexer": "ipython3",
   "version": "3.6.5"
  }
 },
 "nbformat": 4,
 "nbformat_minor": 2
}
